{
 "cells": [
  {
   "cell_type": "code",
   "execution_count": 5,
   "metadata": {
    "scrolled": true
   },
   "outputs": [
    {
     "name": "stdout",
     "output_type": "stream",
     "text": [
      "[3.46875    3.18359375 3.14794922 3.14349365 3.14293671 3.14286709\n",
      " 3.14285839 3.1428573  3.14285716 3.14285715 3.14285714]\n",
      "[3.2421875  3.07763672 3.06735229 3.06670952 3.06666934 3.06666683\n",
      " 3.06666668 3.06666667 3.06666667 3.06666667 3.06666667]\n",
      "[3.12304688 3.03509521 3.03234673 3.03226084 3.03225815 3.03225807\n",
      " 3.03225806 3.03225806 3.03225806 3.03225806 3.03225806]\n"
     ]
    },
    {
     "data": {
      "text/plain": [
       "[]"
      ]
     },
     "execution_count": 5,
     "metadata": {},
     "output_type": "execute_result"
    },
    {
     "data": {
      "image/png": "[encoded data removed]",
      "text/plain": [
       "<Figure size 360x288 with 2 Axes>"
      ]
     },
     "metadata": {
      "needs_background": "light"
     },
     "output_type": "display_data"
    }
   ],
   "source": [
    "# libraries\n",
    "import numpy as np\n",
    "import pandas as pd\n",
    "import os\n",
    "import re\n",
    "\n",
    "from operator import truediv\n",
    "from matplotlib.pyplot import figure\n",
    "from matplotlib import gridspec\n",
    "from matplotlib.ticker import FuncFormatter\n",
    "from matplotlib import rcParams\n",
    "rcParams['font.family'] = 'Times New Roman'\n",
    "rcParams['font.weight'] = 100\n",
    "import matplotlib.pyplot as plt\n",
    "%matplotlib inline\n",
    "\n",
    "\n",
    "fig = plt.figure(figsize=(5, 4)) \n",
    "gs = gridspec.GridSpec(10, 10) \n",
    "gs.update(wspace=5, hspace=0.5) # set the spacing between axes. \n",
    "ax1 = plt.subplot(gs[:, 0:])\n",
    "ax1t=ax1.twinx()\n",
    "\n",
    "lower = 2.8\n",
    "upper = 4.6\n",
    "def PlotLower(ax, T, WAL, WA0, style='b--'):\n",
    "    t = np.arange(1, 12, 1)\n",
    "    WA = WA0/np.power(T, t) + (1 + (T-1)*WAL)/T * (T-1/np.power(T, t))/(T-1)\n",
    "    # red dashes, blue squares and green triangles\n",
    "    ax.plot(t, WA, style)\n",
    "    ax.yaxis.grid(linewidth=1, linestyle='--')\n",
    "    start, end = ax.get_xlim()\n",
    "    ax.xaxis.set_ticks(np.arange(0, 20, 5))\n",
    "    ax.set_ylim([lower, upper])\n",
    "    print(WA)\n",
    "\n",
    "\n",
    "def PlotUpper(ax, T, WAL, WA0, style='b--'):\n",
    "    t = np.arange(1, 12, 1)\n",
    "    WA = WA0/np.power(T, t) + (1 + (T-1)*WAL)/T * (T-1/np.power(T, t))/(T-1)\n",
    "    # red dashes, blue squares and green triangles\n",
    "    ax.plot(t, WA + 1, style)\n",
    "    ax.yaxis.grid(linewidth=1, linestyle='--')\n",
    "    start, end = ax.get_xlim()\n",
    "    ax.xaxis.set_ticks(np.arange(0, 20, 5))\n",
    "    ax.set_ylim([lower, upper])\n",
    "#     print(WA)\n",
    "    \n",
    "PlotLower(ax1, 8, 3, 3, 'r--')\n",
    "PlotLower(ax1, 16,3, 3, 'g--')\n",
    "PlotLower(ax1, 32,3, 3, 'b--')\n",
    "\n",
    "PlotUpper(ax1t, 8, 3, 3, 'r-')\n",
    "PlotUpper(ax1t, 16,3, 3, 'g-')\n",
    "PlotUpper(ax1t, 32,3, 3, 'b-')\n",
    "ax1t.legend([\"T=8\", \"T=16\", \"T=32\"])\n",
    "ax1.legend([\"T=8\", \"T=16\", \"T=32\"], loc=\"lower right\")\n",
    "ax1t.set_yticks([])\n",
    "\n",
    "plt.savefig('math-bound.pdf', bbox_inches='tight')"
   ]
  },
  {
   "cell_type": "code",
   "execution_count": null,
   "metadata": {},
   "outputs": [],
   "source": []
  }
 ],
 "metadata": {
  "kernelspec": {
   "display_name": "Python 3",
   "language": "python",
   "name": "python3"
  },
  "language_info": {
   "codemirror_mode": {
    "name": "ipython",
    "version": 3
   },
   "file_extension": ".py",
   "mimetype": "text/x-python",
   "name": "python",
   "nbconvert_exporter": "python",
   "pygments_lexer": "ipython3",
   "version": "3.6.8"
  }
 },
 "nbformat": 4,
 "nbformat_minor": 2
}
