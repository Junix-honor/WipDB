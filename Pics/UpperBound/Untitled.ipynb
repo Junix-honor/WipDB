{
 "cells": [
  {
   "cell_type": "code",
   "execution_count": 39,
   "metadata": {
    "scrolled": true
   },
   "outputs": [
    {
     "name": "stdout",
     "output_type": "stream",
     "text": [
      "[3.125      3.140625   3.14257812 3.14282227 3.14285278 3.1428566\n",
      " 3.14285707 3.14285713 3.14285714 3.14285714]\n",
      "[3.0625     3.06640625 3.06665039 3.06666565 3.0666666  3.06666666\n",
      " 3.06666667 3.06666667 3.06666667 3.06666667]\n",
      "[3.03125    3.03222656 3.03225708 3.03225803 3.03225806 3.03225806\n",
      " 3.03225806 3.03225806 3.03225806 3.03225806]\n"
     ]
    },
    {
     "data": {
      "image/png": "[encoded data removed]",
      "text/plain": [
       "<Figure size 360x288 with 2 Axes>"
      ]
     },
     "metadata": {
      "needs_background": "light"
     },
     "output_type": "display_data"
    }
   ],
   "source": [
    "# libraries\n",
    "import numpy as np\n",
    "import pandas as pd\n",
    "import os\n",
    "import re\n",
    "\n",
    "from operator import truediv\n",
    "from matplotlib.pyplot import figure\n",
    "from matplotlib import gridspec\n",
    "from matplotlib.ticker import FuncFormatter\n",
    "from matplotlib import rcParams\n",
    "rcParams['font.family'] = 'Times New Roman'\n",
    "rcParams['font.weight'] = 100\n",
    "plt.rcParams['xtick.labelsize']=18\n",
    "plt.rcParams['ytick.labelsize']=18\n",
    "import matplotlib.pyplot as plt\n",
    "%matplotlib inline\n",
    "\n",
    "\n",
    "fig = plt.figure(figsize=(5, 4)) \n",
    "gs = gridspec.GridSpec(10, 10) \n",
    "gs.update(wspace=5, hspace=0.5) # set the spacing between axes. \n",
    "ax1 = plt.subplot(gs[:, 0:])\n",
    "ax1t=ax1.twinx()\n",
    "\n",
    "lower = 2.8\n",
    "upper = 4.6\n",
    "def PlotLower(ax, T, WAL, WA0, style='b--'):\n",
    "    t = np.arange(1, 11, 1)\n",
    "    WA = WA0/np.power(T, t) + (1 + (T-1)*WAL)/T * (1-1/np.power(T, t))/(1-1/T)\n",
    "    # red dashes, blue squares and green triangles\n",
    "    ax.plot(t, WA, style)\n",
    "    ax.yaxis.grid(linewidth=1, linestyle='--')\n",
    "    ax.xaxis.set_ticks(np.arange(0, 20, 5))\n",
    "    ax.set_ylim([lower, upper])\n",
    "    ax.set_xlim([0, 15])\n",
    "    print(WA)\n",
    "\n",
    "\n",
    "def PlotUpper(ax, T, WAL, WA0, style='b--'):\n",
    "    t = np.arange(1, 11, 1)\n",
    "    WA = WA0/np.power(T, t) + (1 + (T-1)*WAL)/T * (1-1/np.power(T, t))/(1-1/T)\n",
    "    # red dashes, blue squares and green triangles\n",
    "    ax.plot(t, WA + 1, style)\n",
    "    ax.yaxis.grid(linewidth=1, linestyle='--')\n",
    "    \n",
    "    ax.xaxis.set_ticks(np.arange(0, 20, 5))\n",
    "    ax.set_ylim([lower, upper])\n",
    "    ax.set_xlim([0, 15])\n",
    "#     print(WA)\n",
    "    \n",
    "\n",
    "PlotUpper(ax1t, 8, 3, 3, 'r-')\n",
    "PlotUpper(ax1t, 16,3, 3, 'g-')\n",
    "PlotUpper(ax1t, 32,3, 3, 'b-')\n",
    "\n",
    "PlotLower(ax1, 8, 3, 3, 'r--')\n",
    "PlotLower(ax1, 16,3, 3, 'g--')\n",
    "PlotLower(ax1, 32,3, 3, 'b--')\n",
    "\n",
    "ax1t.legend([\"T=8\", \"T=16\", \"T=32\"], fontsize=14, loc=\"upper right\",edgecolor='k')\n",
    "ax1.legend([\"T=8\", \"T=16\", \"T=32\"], loc=\"lower right\", fontsize=14, edgecolor='k')\n",
    "ax1.set_ylabel(\"Write Amplification\", fontsize=18)\n",
    "ax1.set_xlabel(\"Number of Split\", fontsize=18)\n",
    "ax1t.set_yticks([])\n",
    "\n",
    "plt.savefig('math-bound.pdf', bbox_inches='tight')"
   ]
  },
  {
   "cell_type": "code",
   "execution_count": null,
   "metadata": {},
   "outputs": [],
   "source": []
  }
 ],
 "metadata": {
  "kernelspec": {
   "display_name": "Python 3",
   "language": "python",
   "name": "python3"
  },
  "language_info": {
   "codemirror_mode": {
    "name": "ipython",
    "version": 3
   },
   "file_extension": ".py",
   "mimetype": "text/x-python",
   "name": "python",
   "nbconvert_exporter": "python",
   "pygments_lexer": "ipython3",
   "version": "3.6.8"
  }
 },
 "nbformat": 4,
 "nbformat_minor": 2
}
